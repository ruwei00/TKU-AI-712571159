{
  "nbformat": 4,
  "nbformat_minor": 0,
  "metadata": {
    "colab": {
      "provenance": [],
      "authorship_tag": "ABX9TyNwJAEcpWzLpjBCNN8Kocg7",
      "include_colab_link": true
    },
    "kernelspec": {
      "name": "python3",
      "display_name": "Python 3"
    },
    "language_info": {
      "name": "python"
    }
  },
  "cells": [
    {
      "cell_type": "markdown",
      "metadata": {
        "id": "view-in-github",
        "colab_type": "text"
      },
      "source": [
        "<a href=\"https://colab.research.google.com/github/ruwei00/TKU-AI-712571159/blob/main/0508.ipynb\" target=\"_parent\"><img src=\"https://colab.research.google.com/assets/colab-badge.svg\" alt=\"Open In Colab\"/></a>"
      ]
    },
    {
      "cell_type": "code",
      "execution_count": 30,
      "metadata": {
        "colab": {
          "base_uri": "https://localhost:8080/"
        },
        "id": "ROwP-S4JCq27",
        "outputId": "505adc14-84cd-447c-a253-e3c0d79b8b9c"
      },
      "outputs": [
        {
          "output_type": "stream",
          "name": "stdout",
          "text": [
            "請輸入體溫:35\n",
            "體溫正常!\n"
          ]
        }
      ],
      "source": [
        "a=int(input(\"請輸入體溫:\"))\n",
        "if (a>=37.5) :\n",
        "  print(\"體溫過高!\")\n",
        "elif (37.4>=a>=37) :\n",
        "  print(\"體溫略高!\")\n",
        "elif (36.9>=a>=34) :\n",
        "  print(\"體溫正常!\")\n",
        "elif (a<34):\n",
        "  print(\"體溫異常，請重新量測!\")\n",
        "else:\n",
        "  print(\"\")\n"
      ]
    },
    {
      "cell_type": "code",
      "source": [
        "a=int(input(\"請輸入成績:\"))\n",
        "if (a>=90):\n",
        "  print(\"A\")\n",
        "elif (89>=a>=80):\n",
        "    print(\"B\")\n",
        "elif (79>=a>=70):\n",
        "      print(\"C\")\n",
        "elif (69>=a>=60):\n",
        "   print(\"D\")\n",
        "else:\n",
        "  print(\"E\")\n"
      ],
      "metadata": {
        "colab": {
          "base_uri": "https://localhost:8080/"
        },
        "id": "rNtqBI1VEx_m",
        "outputId": "cc33892a-3dc1-4ead-9ece-1b8b1ed4f6e5"
      },
      "execution_count": 33,
      "outputs": [
        {
          "output_type": "stream",
          "name": "stdout",
          "text": [
            "請輸入成績:81\n",
            "B\n"
          ]
        }
      ]
    },
    {
      "cell_type": "code",
      "source": [
        "a=int(input(\"請輸入月份:\"))\n",
        "if (a==3 or a==4 or a==5):\n",
        "  print(a,\"月是春天!\")\n",
        "elif (a==6 or a==7 or a==8):\n",
        "  print(a,\"月是夏天!\")\n",
        "elif (a==9 or a==10 or a==11):\n",
        "  print(a,\"月是秋天!\")\n",
        "elif (a==12 or a==1 or a==2):\n",
        "  print(a,\"月是冬天!\")\n",
        "else:\n",
        "  print(\"月份不再範圍內!\")"
      ],
      "metadata": {
        "colab": {
          "base_uri": "https://localhost:8080/"
        },
        "id": "nV4UsMJAH4-x",
        "outputId": "2485dd3b-cc27-405a-e9e5-8d18ddc99d42"
      },
      "execution_count": 42,
      "outputs": [
        {
          "output_type": "stream",
          "name": "stdout",
          "text": [
            "請輸入月份:5\n",
            "5 月是春天!\n"
          ]
        }
      ]
    }
  ]
}